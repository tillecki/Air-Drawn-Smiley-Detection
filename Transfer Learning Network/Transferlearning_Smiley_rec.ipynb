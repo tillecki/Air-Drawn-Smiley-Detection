{
  "cells": [
    {
      "cell_type": "code",
      "execution_count": null,
      "metadata": {
        "id": "EnyiAPyzpNRW"
      },
      "outputs": [],
      "source": [
        "import torch\n",
        "import torch.nn as nn\n",
        "import torch.optim as optim\n",
        "from torch.utils.data import DataLoader, Dataset\n",
        "from torchvision import datasets\n",
        "from torchvision.transforms import v2 # V2 They’re faster and they can do more things. J\n",
        "from torchvision.io import read_image\n",
        "from tqdm import tqdm\n",
        "import matplotlib.pyplot as plt\n",
        "import torchvision\n",
        "import numpy as np\n",
        "import pandas as pd\n",
        "import os\n",
        "import time\n"
      ]
    },
    {
      "cell_type": "markdown",
      "metadata": {
        "id": "THI_UEl-poof"
      },
      "source": [
        "# DataSet"
      ]
    },
    {
      "cell_type": "code",
      "execution_count": null,
      "metadata": {
        "colab": {
          "base_uri": "https://localhost:8080/"
        },
        "id": "dUaSMYFhr6xq",
        "outputId": "ab611168-ec04-4586-a011-d08d5162fccf"
      },
      "outputs": [
        {
          "output_type": "stream",
          "name": "stdout",
          "text": [
            "Mounted at /content/drive\n"
          ]
        }
      ],
      "source": [
        "# Mount google drive to use the dataset.\n",
        "from google.colab import drive\n",
        "drive.mount('/content/drive',force_remount=True)"
      ]
    },
    {
      "cell_type": "code",
      "execution_count": null,
      "metadata": {
        "id": "OzFjBzyD-fsI"
      },
      "outputs": [],
      "source": [
        "# Generate annotations_file of Dataset\n",
        "os.chdir(r'/content/drive/MyDrive/DL/train')\n",
        "#os.chdir(r'/content/drive/MyDrive/DL/valid') # change for the valid dataset\n",
        "#os.chdir(r'/content/drive/MyDrive/DL/test') # change for the test dataset\n",
        "\n",
        "folders = ['happy', 'sad']\n",
        "classes = folders\n",
        "files = []\n",
        "\n",
        "for folder in folders:\n",
        "    for file in os.listdir(folder):\n",
        "        files.append([file, folder])\n",
        "\n",
        "#pd.DataFrame(files, columns=['files', 'target']).to_csv('files_and_targets.csv')"
      ]
    },
    {
      "cell_type": "code",
      "execution_count": null,
      "metadata": {
        "id": "Ihj23E6PpZND"
      },
      "outputs": [],
      "source": [
        "from PIL import Image\n",
        "\n",
        "# based on: https://pytorch.org/tutorials/beginner/basics/data_tutorial.html\n",
        "\n",
        "# Interface for uploading a dataset\n",
        "class CustomDataset(Dataset):\n",
        "    def __init__(self, annotations_file, img_dir, transform=None, target_transform=None):\n",
        "        self.img_labels = pd.read_csv(annotations_file)\n",
        "        self.img_dir = img_dir\n",
        "        self.transform = transform\n",
        "        self.target_transform = target_transform\n",
        "\n",
        "        # Define a mapping from class names to numerical labels\n",
        "        self.class_mapping = {'happy': 0, 'sad': 1}\n",
        "\n",
        "    def __len__(self):\n",
        "        return len(self.img_labels)\n",
        "\n",
        "    def __getitem__(self, idx):\n",
        "        file_name = str(self.img_labels.iloc[idx, 1]) # 2nd column in files_and_targets.csv\n",
        "        class_folder = str(self.img_labels.iloc[idx, 2]) # happy or sad\n",
        "        img_path = os.path.join(self.img_dir, class_folder, file_name) # combine directory, class folder and file name\n",
        "        image = Image.open(img_path)\n",
        "\n",
        "        # Map the class name to a numerical label\n",
        "        label = torch.tensor(self.class_mapping[class_folder])\n",
        "\n",
        "        # Apply transform\n",
        "        if self.transform:\n",
        "          image = self.transform(image)\n",
        "        if self.target_transform:\n",
        "          label = self.target_transform(label)\n",
        "\n",
        "        return image, label"
      ]
    },
    {
      "cell_type": "markdown",
      "metadata": {
        "id": "6AAcPYZcqs8O"
      },
      "source": [
        "# Setup Model and DataSet"
      ]
    },
    {
      "cell_type": "code",
      "execution_count": null,
      "metadata": {
        "colab": {
          "base_uri": "https://localhost:8080/"
        },
        "id": "7-5VRhyhq1NS",
        "outputId": "67d29334-5617-414f-8f1e-c1a125a9be08"
      },
      "outputs": [
        {
          "output_type": "stream",
          "name": "stderr",
          "text": [
            "/usr/local/lib/python3.10/dist-packages/torchvision/transforms/v2/_deprecated.py:43: UserWarning: The transform `ToTensor()` is deprecated and will be removed in a future release. Instead, please use `v2.Compose([v2.ToImage(), v2.ToDtype(torch.float32, scale=True)])`.\n",
            "  warnings.warn(\n"
          ]
        }
      ],
      "source": [
        "device = torch.device(\"cuda\" if torch.cuda.is_available() else \"cpu\")\n",
        "\n",
        "# Create DataLoaders for training, validation, and testing data\n",
        "data_transform = v2.Compose([\n",
        "    v2.Resize((224, 224)),\n",
        "    v2.RandomHorizontalFlip(),\n",
        "    #v2.RandomVerticalFlip(),\n",
        "    v2.RandomResizedCrop(size=(224, 224),scale=(0.5,1)), #Scale that the whole image is still visible\n",
        "    #v2.Grayscale(),\n",
        "    v2.ToTensor()\n",
        "])\n",
        "\n",
        "train_dataset = CustomDataset(annotations_file=r'/content/drive/MyDrive/DL/train/files_and_targets.csv', img_dir=r'/content/drive/MyDrive/DL/train', transform=data_transform)\n",
        "test_dataset = CustomDataset(annotations_file=r'/content/drive/MyDrive/DL/test/files_and_targets.csv', img_dir=r'/content/drive/MyDrive/DL/test', transform=data_transform)\n",
        "\n",
        "train_loader = DataLoader(train_dataset, batch_size=26, shuffle=True)\n",
        "test_loader = DataLoader(test_dataset, batch_size=10, shuffle=True)\n",
        "\n"
      ]
    },
    {
      "cell_type": "code",
      "execution_count": null,
      "metadata": {
        "id": "UcTyBEZx7uQI",
        "colab": {
          "base_uri": "https://localhost:8080/"
        },
        "outputId": "27451f5b-c8b0-4a9f-8e2c-a814cb1f2672"
      },
      "outputs": [
        {
          "output_type": "stream",
          "name": "stdout",
          "text": [
            "Number of batches in train_loader: 8\n",
            "Batch size: 26\n",
            "Image shape: torch.Size([26, 3, 224, 224])\n",
            "Label shape: torch.Size([26])\n"
          ]
        }
      ],
      "source": [
        "# Check the size of the train_loader\n",
        "print(\"Number of batches in train_loader:\", len(train_loader))\n",
        "\n",
        "# Iterate through the train_loader to check the size of each batch\n",
        "for batch in train_loader:\n",
        "    images, labels = batch\n",
        "    print(\"Batch size:\", len(images))\n",
        "    print(\"Image shape:\", images.shape)\n",
        "    print(\"Label shape:\", labels.shape)\n",
        "    break  # Break after the first batch to avoid printing for every batch"
      ]
    },
    {
      "cell_type": "code",
      "execution_count": null,
      "metadata": {
        "id": "ldlj2ftTsOm-",
        "colab": {
          "base_uri": "https://localhost:8080/",
          "height": 864
        },
        "outputId": "444a095e-6e6b-4b1a-9295-d1fe1c103498"
      },
      "outputs": [
        {
          "output_type": "display_data",
          "data": {
            "text/plain": [
              "<Figure size 1000x1000 with 21 Axes>"
            ],
            "image/png": "[encoded data removed]"
          },
          "metadata": {}
        },
        {
          "output_type": "stream",
          "name": "stdout",
          "text": [
            "Feature batch shape: torch.Size([26, 3, 224, 224])\n",
            "Labels batch shape: torch.Size([26])\n"
          ]
        }
      ],
      "source": [
        "# Showing some images\n",
        "figure = plt.figure(figsize=(10, 10))\n",
        "cols, rows = 3, 7\n",
        "for i in range(1, cols * rows + 1):\n",
        "    sample_idx = torch.randint(len(train_dataset), size=(1,)).item() # can change dataset here\n",
        "    img, label = train_dataset[sample_idx] # then also change this\n",
        "    figure.add_subplot(rows, cols, i)\n",
        "    plt.title([classes[label.item()]])\n",
        "    plt.axis(\"off\")\n",
        "    plt.imshow(img.permute(1,2,0))\n",
        "plt.show()\n",
        "train_features, train_labels = next(iter(train_loader))\n",
        "print(f\"Feature batch shape: {train_features.size()}\")\n",
        "print(f\"Labels batch shape: {train_labels.size()}\")\n"
      ]
    },
    {
      "cell_type": "markdown",
      "source": [
        "# Training, Validation and Visualization"
      ],
      "metadata": {
        "id": "sF6r4JTe2GWG"
      }
    },
    {
      "cell_type": "code",
      "execution_count": null,
      "metadata": {
        "id": "Hlvn0iB2ZgIX"
      },
      "outputs": [],
      "source": [
        "def train_model(model, criterion, optimizer, num_epochs=25, patience = 5):\n",
        "   since = time.time()\n",
        "   # Initialize empty lists to store training and validation metrics\n",
        "   train_loss_history = []\n",
        "   counter = 0\n",
        "   best_val_loss = float('inf') # Early dropout best value\n",
        "\n",
        "   #Epoch loop\n",
        "   for epoch in range(num_epochs):\n",
        "       print('Epoch {}/{}'.format(epoch, num_epochs - 1))\n",
        "       print('-' * 10)\n",
        "\n",
        "       running_loss = 0.0\n",
        "       train_loss = 0\n",
        "\n",
        "       # Iterate over data.\n",
        "       for i, data in enumerate(train_loader):\n",
        "           inputs , labels = data\n",
        "           inputs = inputs.to(device)\n",
        "           labels = labels.to(device)\n",
        "\n",
        "           optimizer.zero_grad()\n",
        "\n",
        "           with torch.set_grad_enabled(True):\n",
        "               outputs  = model(inputs)\n",
        "               loss = criterion(outputs, labels)\n",
        "\n",
        "           loss.backward()\n",
        "           optimizer.step()\n",
        "\n",
        "           train_loss += loss.item() * inputs.size(0)\n",
        "           running_loss += loss.item()\n",
        "           print('{} Loss: {:.4f}'.format('train', loss.item()))\n",
        "\n",
        "       avg_loss = running_loss / len(train_loader)\n",
        "       train_loss_history.append(avg_loss)\n",
        "       print('Average epoch loss: ', avg_loss)\n",
        "\n",
        "\n",
        "\n",
        "   time_elapsed = time.time() - since\n",
        "   print('Training complete in {:.0f}m {:.0f}s'.format(time_elapsed // 60, time_elapsed % 60))\n",
        "\n",
        "   return model, train_loss_history"
      ]
    },
    {
      "cell_type": "code",
      "source": [
        "# Function to evaluate the model on the validation set\n",
        "def validate(model, val_loader, criterion, device):\n",
        "    model.eval()\n",
        "    running_loss = 0.0\n",
        "    correct_predictions = 0\n",
        "    total_samples = 0\n",
        "\n",
        "    # Calc loss and if label is correct\n",
        "    with torch.no_grad():\n",
        "        for inputs, labels in tqdm(val_loader, desc=\"Validation\"):\n",
        "            inputs, labels = inputs.to(device), labels.to(device)\n",
        "\n",
        "            outputs = model(inputs)\n",
        "            loss = criterion(outputs, labels)\n",
        "            running_loss += loss.item()\n",
        "\n",
        "            _, predicted = torch.max(outputs, 1)\n",
        "            total_samples += labels.size(0)\n",
        "            correct_predictions += (predicted == labels).sum().item()\n",
        "\n",
        "            #print(correct_predictions)\n",
        "            #print(predicted)\n",
        "\n",
        "    avg_loss = running_loss / len(val_loader)\n",
        "    accuracy = correct_predictions / total_samples\n",
        "\n",
        "    return avg_loss, accuracy"
      ],
      "metadata": {
        "id": "S-pqE5efdad6"
      },
      "execution_count": null,
      "outputs": []
    },
    {
      "cell_type": "code",
      "execution_count": null,
      "metadata": {
        "id": "zt0dFt6jj1f8"
      },
      "outputs": [],
      "source": [
        "# Visualize some of the model prediction\n",
        "def visualize_model(model, data_loader, num_images=6):\n",
        "   was_training = model.training\n",
        "   model.eval()\n",
        "   images_so_far = 0\n",
        "   fig = plt.figure()\n",
        "\n",
        "   with torch.no_grad():\n",
        "       for inputs, labels in data_loader:\n",
        "           inputs = inputs.to(device)\n",
        "           labels = labels.to(device)\n",
        "           #print(inputs.shape)\n",
        "           outputs = model(inputs)\n",
        "           _, preds = torch.max(outputs, 1)\n",
        "\n",
        "          #Plots\n",
        "           for j in range(inputs.size()[0]):\n",
        "               images_so_far += 1\n",
        "               ax = plt.subplot(num_images//2, 2, images_so_far)\n",
        "               ax.axis('off')\n",
        "               ax.set_title('predicted: {} truth: {}'.format(classes[preds[j].item()], classes[labels[j].item()]))\n",
        "               img = inputs.cpu().data[j].numpy().transpose((1, 2, 0))\n",
        "               #img = std * img + mean\n",
        "               ax.imshow(img)\n",
        "\n",
        "               if images_so_far == num_images:\n",
        "                   model.train(mode=was_training)\n",
        "                   return\n",
        "       model.train(mode=was_training)"
      ]
    },
    {
      "cell_type": "markdown",
      "source": [
        "# Transfer Models"
      ],
      "metadata": {
        "id": "Z_oKzao62OF2"
      }
    },
    {
      "cell_type": "code",
      "execution_count": null,
      "metadata": {
        "id": "FxTVwymojDZ4",
        "colab": {
          "base_uri": "https://localhost:8080/"
        },
        "outputId": "b87aa2cf-7978-44ac-9cd2-97e6ef1b123c"
      },
      "outputs": [
        {
          "output_type": "stream",
          "name": "stderr",
          "text": [
            "/usr/local/lib/python3.10/dist-packages/torchvision/models/_utils.py:208: UserWarning: The parameter 'pretrained' is deprecated since 0.13 and may be removed in the future, please use 'weights' instead.\n",
            "  warnings.warn(\n",
            "/usr/local/lib/python3.10/dist-packages/torchvision/models/_utils.py:223: UserWarning: Arguments other than a weight enum or `None` for 'weights' are deprecated since 0.13 and may be removed in the future. The current behavior is equivalent to passing `weights=VGG19_Weights.IMAGENET1K_V1`. You can also use `weights=VGG19_Weights.DEFAULT` to get the most up-to-date weights.\n",
            "  warnings.warn(msg)\n"
          ]
        },
        {
          "output_type": "stream",
          "name": "stdout",
          "text": [
            "VGG(\n",
            "  (features): Sequential(\n",
            "    (0): Conv2d(3, 64, kernel_size=(3, 3), stride=(1, 1), padding=(1, 1))\n",
            "    (1): ReLU(inplace=True)\n",
            "    (2): Conv2d(64, 64, kernel_size=(3, 3), stride=(1, 1), padding=(1, 1))\n",
            "    (3): ReLU(inplace=True)\n",
            "    (4): MaxPool2d(kernel_size=2, stride=2, padding=0, dilation=1, ceil_mode=False)\n",
            "    (5): Conv2d(64, 128, kernel_size=(3, 3), stride=(1, 1), padding=(1, 1))\n",
            "    (6): ReLU(inplace=True)\n",
            "    (7): Conv2d(128, 128, kernel_size=(3, 3), stride=(1, 1), padding=(1, 1))\n",
            "    (8): ReLU(inplace=True)\n",
            "    (9): MaxPool2d(kernel_size=2, stride=2, padding=0, dilation=1, ceil_mode=False)\n",
            "    (10): Conv2d(128, 256, kernel_size=(3, 3), stride=(1, 1), padding=(1, 1))\n",
            "    (11): ReLU(inplace=True)\n",
            "    (12): Conv2d(256, 256, kernel_size=(3, 3), stride=(1, 1), padding=(1, 1))\n",
            "    (13): ReLU(inplace=True)\n",
            "    (14): Conv2d(256, 256, kernel_size=(3, 3), stride=(1, 1), padding=(1, 1))\n",
            "    (15): ReLU(inplace=True)\n",
            "    (16): Conv2d(256, 256, kernel_size=(3, 3), stride=(1, 1), padding=(1, 1))\n",
            "    (17): ReLU(inplace=True)\n",
            "    (18): MaxPool2d(kernel_size=2, stride=2, padding=0, dilation=1, ceil_mode=False)\n",
            "    (19): Conv2d(256, 512, kernel_size=(3, 3), stride=(1, 1), padding=(1, 1))\n",
            "    (20): ReLU(inplace=True)\n",
            "    (21): Conv2d(512, 512, kernel_size=(3, 3), stride=(1, 1), padding=(1, 1))\n",
            "    (22): ReLU(inplace=True)\n",
            "    (23): Conv2d(512, 512, kernel_size=(3, 3), stride=(1, 1), padding=(1, 1))\n",
            "    (24): ReLU(inplace=True)\n",
            "    (25): Conv2d(512, 512, kernel_size=(3, 3), stride=(1, 1), padding=(1, 1))\n",
            "    (26): ReLU(inplace=True)\n",
            "    (27): MaxPool2d(kernel_size=2, stride=2, padding=0, dilation=1, ceil_mode=False)\n",
            "    (28): Conv2d(512, 512, kernel_size=(3, 3), stride=(1, 1), padding=(1, 1))\n",
            "    (29): ReLU(inplace=True)\n",
            "    (30): Conv2d(512, 512, kernel_size=(3, 3), stride=(1, 1), padding=(1, 1))\n",
            "    (31): ReLU(inplace=True)\n",
            "    (32): Conv2d(512, 512, kernel_size=(3, 3), stride=(1, 1), padding=(1, 1))\n",
            "    (33): ReLU(inplace=True)\n",
            "    (34): Conv2d(512, 512, kernel_size=(3, 3), stride=(1, 1), padding=(1, 1))\n",
            "    (35): ReLU(inplace=True)\n",
            "    (36): MaxPool2d(kernel_size=2, stride=2, padding=0, dilation=1, ceil_mode=False)\n",
            "  )\n",
            "  (avgpool): AdaptiveAvgPool2d(output_size=(7, 7))\n",
            "  (classifier): Sequential(\n",
            "    (0): Linear(in_features=25088, out_features=4096, bias=True)\n",
            "    (1): ReLU(inplace=True)\n",
            "    (2): Dropout(p=0.5, inplace=False)\n",
            "    (3): Linear(in_features=4096, out_features=4096, bias=True)\n",
            "    (4): ReLU(inplace=True)\n",
            "    (5): Dropout(p=0.5, inplace=False)\n",
            "    (6): Linear(in_features=4096, out_features=2, bias=True)\n",
            "  )\n",
            ")\n"
          ]
        }
      ],
      "source": [
        "## Load the model based on VGG19\n",
        "vgg_based = torchvision.models.vgg19(pretrained=True)\n",
        "\n",
        "## freeze the layers\n",
        "for param in vgg_based.parameters():\n",
        "   param.requires_grad = False\n",
        "\n",
        "# Modify the last layer\n",
        "number_features = vgg_based.classifier[6].in_features\n",
        "features = list(vgg_based.classifier.children())[:-1] # Remove last layer\n",
        "features.extend([torch.nn.Linear(number_features, 2)])\n",
        "vgg_based.classifier = torch.nn.Sequential(*features)\n",
        "\n",
        "vgg_based = vgg_based.to(device)\n",
        "\n",
        "print(vgg_based)\n",
        "\n",
        "criterion = torch.nn.CrossEntropyLoss() # Loss function\n",
        "optimizer_ft_vgg = optim.Adam(vgg_based.parameters(), lr=0.001)"
      ]
    },
    {
      "cell_type": "code",
      "execution_count": null,
      "metadata": {
        "id": "owvyiRzqTMEi",
        "colab": {
          "base_uri": "https://localhost:8080/"
        },
        "outputId": "ab472880-ffe1-4868-aaf2-d5dc243f9b99"
      },
      "outputs": [
        {
          "output_type": "stream",
          "name": "stderr",
          "text": [
            "/usr/local/lib/python3.10/dist-packages/torchvision/models/_utils.py:208: UserWarning: The parameter 'pretrained' is deprecated since 0.13 and may be removed in the future, please use 'weights' instead.\n",
            "  warnings.warn(\n",
            "/usr/local/lib/python3.10/dist-packages/torchvision/models/_utils.py:223: UserWarning: Arguments other than a weight enum or `None` for 'weights' are deprecated since 0.13 and may be removed in the future. The current behavior is equivalent to passing `weights=ResNet18_Weights.IMAGENET1K_V1`. You can also use `weights=ResNet18_Weights.DEFAULT` to get the most up-to-date weights.\n",
            "  warnings.warn(msg)\n",
            "Downloading: \"https://download.pytorch.org/models/resnet18-f37072fd.pth\" to /root/.cache/torch/hub/checkpoints/resnet18-f37072fd.pth\n",
            "100%|██████████| 44.7M/44.7M [00:00<00:00, 143MB/s]"
          ]
        },
        {
          "output_type": "stream",
          "name": "stdout",
          "text": [
            "ResNet(\n",
            "  (conv1): Conv2d(3, 64, kernel_size=(7, 7), stride=(2, 2), padding=(3, 3), bias=False)\n",
            "  (bn1): BatchNorm2d(64, eps=1e-05, momentum=0.1, affine=True, track_running_stats=True)\n",
            "  (relu): ReLU(inplace=True)\n",
            "  (maxpool): MaxPool2d(kernel_size=3, stride=2, padding=1, dilation=1, ceil_mode=False)\n",
            "  (layer1): Sequential(\n",
            "    (0): BasicBlock(\n",
            "      (conv1): Conv2d(64, 64, kernel_size=(3, 3), stride=(1, 1), padding=(1, 1), bias=False)\n",
            "      (bn1): BatchNorm2d(64, eps=1e-05, momentum=0.1, affine=True, track_running_stats=True)\n",
            "      (relu): ReLU(inplace=True)\n",
            "      (conv2): Conv2d(64, 64, kernel_size=(3, 3), stride=(1, 1), padding=(1, 1), bias=False)\n",
            "      (bn2): BatchNorm2d(64, eps=1e-05, momentum=0.1, affine=True, track_running_stats=True)\n",
            "    )\n",
            "    (1): BasicBlock(\n",
            "      (conv1): Conv2d(64, 64, kernel_size=(3, 3), stride=(1, 1), padding=(1, 1), bias=False)\n",
            "      (bn1): BatchNorm2d(64, eps=1e-05, momentum=0.1, affine=True, track_running_stats=True)\n",
            "      (relu): ReLU(inplace=True)\n",
            "      (conv2): Conv2d(64, 64, kernel_size=(3, 3), stride=(1, 1), padding=(1, 1), bias=False)\n",
            "      (bn2): BatchNorm2d(64, eps=1e-05, momentum=0.1, affine=True, track_running_stats=True)\n",
            "    )\n",
            "  )\n",
            "  (layer2): Sequential(\n",
            "    (0): BasicBlock(\n",
            "      (conv1): Conv2d(64, 128, kernel_size=(3, 3), stride=(2, 2), padding=(1, 1), bias=False)\n",
            "      (bn1): BatchNorm2d(128, eps=1e-05, momentum=0.1, affine=True, track_running_stats=True)\n",
            "      (relu): ReLU(inplace=True)\n",
            "      (conv2): Conv2d(128, 128, kernel_size=(3, 3), stride=(1, 1), padding=(1, 1), bias=False)\n",
            "      (bn2): BatchNorm2d(128, eps=1e-05, momentum=0.1, affine=True, track_running_stats=True)\n",
            "      (downsample): Sequential(\n",
            "        (0): Conv2d(64, 128, kernel_size=(1, 1), stride=(2, 2), bias=False)\n",
            "        (1): BatchNorm2d(128, eps=1e-05, momentum=0.1, affine=True, track_running_stats=True)\n",
            "      )\n",
            "    )\n",
            "    (1): BasicBlock(\n",
            "      (conv1): Conv2d(128, 128, kernel_size=(3, 3), stride=(1, 1), padding=(1, 1), bias=False)\n",
            "      (bn1): BatchNorm2d(128, eps=1e-05, momentum=0.1, affine=True, track_running_stats=True)\n",
            "      (relu): ReLU(inplace=True)\n",
            "      (conv2): Conv2d(128, 128, kernel_size=(3, 3), stride=(1, 1), padding=(1, 1), bias=False)\n",
            "      (bn2): BatchNorm2d(128, eps=1e-05, momentum=0.1, affine=True, track_running_stats=True)\n",
            "    )\n",
            "  )\n",
            "  (layer3): Sequential(\n",
            "    (0): BasicBlock(\n",
            "      (conv1): Conv2d(128, 256, kernel_size=(3, 3), stride=(2, 2), padding=(1, 1), bias=False)\n",
            "      (bn1): BatchNorm2d(256, eps=1e-05, momentum=0.1, affine=True, track_running_stats=True)\n",
            "      (relu): ReLU(inplace=True)\n",
            "      (conv2): Conv2d(256, 256, kernel_size=(3, 3), stride=(1, 1), padding=(1, 1), bias=False)\n",
            "      (bn2): BatchNorm2d(256, eps=1e-05, momentum=0.1, affine=True, track_running_stats=True)\n",
            "      (downsample): Sequential(\n",
            "        (0): Conv2d(128, 256, kernel_size=(1, 1), stride=(2, 2), bias=False)\n",
            "        (1): BatchNorm2d(256, eps=1e-05, momentum=0.1, affine=True, track_running_stats=True)\n",
            "      )\n",
            "    )\n",
            "    (1): BasicBlock(\n",
            "      (conv1): Conv2d(256, 256, kernel_size=(3, 3), stride=(1, 1), padding=(1, 1), bias=False)\n",
            "      (bn1): BatchNorm2d(256, eps=1e-05, momentum=0.1, affine=True, track_running_stats=True)\n",
            "      (relu): ReLU(inplace=True)\n",
            "      (conv2): Conv2d(256, 256, kernel_size=(3, 3), stride=(1, 1), padding=(1, 1), bias=False)\n",
            "      (bn2): BatchNorm2d(256, eps=1e-05, momentum=0.1, affine=True, track_running_stats=True)\n",
            "    )\n",
            "  )\n",
            "  (layer4): Sequential(\n",
            "    (0): BasicBlock(\n",
            "      (conv1): Conv2d(256, 512, kernel_size=(3, 3), stride=(2, 2), padding=(1, 1), bias=False)\n",
            "      (bn1): BatchNorm2d(512, eps=1e-05, momentum=0.1, affine=True, track_running_stats=True)\n",
            "      (relu): ReLU(inplace=True)\n",
            "      (conv2): Conv2d(512, 512, kernel_size=(3, 3), stride=(1, 1), padding=(1, 1), bias=False)\n",
            "      (bn2): BatchNorm2d(512, eps=1e-05, momentum=0.1, affine=True, track_running_stats=True)\n",
            "      (downsample): Sequential(\n",
            "        (0): Conv2d(256, 512, kernel_size=(1, 1), stride=(2, 2), bias=False)\n",
            "        (1): BatchNorm2d(512, eps=1e-05, momentum=0.1, affine=True, track_running_stats=True)\n",
            "      )\n",
            "    )\n",
            "    (1): BasicBlock(\n",
            "      (conv1): Conv2d(512, 512, kernel_size=(3, 3), stride=(1, 1), padding=(1, 1), bias=False)\n",
            "      (bn1): BatchNorm2d(512, eps=1e-05, momentum=0.1, affine=True, track_running_stats=True)\n",
            "      (relu): ReLU(inplace=True)\n",
            "      (conv2): Conv2d(512, 512, kernel_size=(3, 3), stride=(1, 1), padding=(1, 1), bias=False)\n",
            "      (bn2): BatchNorm2d(512, eps=1e-05, momentum=0.1, affine=True, track_running_stats=True)\n",
            "    )\n",
            "  )\n",
            "  (avgpool): AdaptiveAvgPool2d(output_size=(1, 1))\n",
            "  (fc): Linear(in_features=512, out_features=2, bias=True)\n",
            ")\n",
            "Freezed Model Resnet18 with 2 Output Layer Untrained  ResNet(\n",
            "  (conv1): Conv2d(3, 64, kernel_size=(7, 7), stride=(2, 2), padding=(3, 3), bias=False)\n",
            "  (bn1): BatchNorm2d(64, eps=1e-05, momentum=0.1, affine=True, track_running_stats=True)\n",
            "  (relu): ReLU(inplace=True)\n",
            "  (maxpool): MaxPool2d(kernel_size=3, stride=2, padding=1, dilation=1, ceil_mode=False)\n",
            "  (layer1): Sequential(\n",
            "    (0): BasicBlock(\n",
            "      (conv1): Conv2d(64, 64, kernel_size=(3, 3), stride=(1, 1), padding=(1, 1), bias=False)\n",
            "      (bn1): BatchNorm2d(64, eps=1e-05, momentum=0.1, affine=True, track_running_stats=True)\n",
            "      (relu): ReLU(inplace=True)\n",
            "      (conv2): Conv2d(64, 64, kernel_size=(3, 3), stride=(1, 1), padding=(1, 1), bias=False)\n",
            "      (bn2): BatchNorm2d(64, eps=1e-05, momentum=0.1, affine=True, track_running_stats=True)\n",
            "    )\n",
            "    (1): BasicBlock(\n",
            "      (conv1): Conv2d(64, 64, kernel_size=(3, 3), stride=(1, 1), padding=(1, 1), bias=False)\n",
            "      (bn1): BatchNorm2d(64, eps=1e-05, momentum=0.1, affine=True, track_running_stats=True)\n",
            "      (relu): ReLU(inplace=True)\n",
            "      (conv2): Conv2d(64, 64, kernel_size=(3, 3), stride=(1, 1), padding=(1, 1), bias=False)\n",
            "      (bn2): BatchNorm2d(64, eps=1e-05, momentum=0.1, affine=True, track_running_stats=True)\n",
            "    )\n",
            "  )\n",
            "  (layer2): Sequential(\n",
            "    (0): BasicBlock(\n",
            "      (conv1): Conv2d(64, 128, kernel_size=(3, 3), stride=(2, 2), padding=(1, 1), bias=False)\n",
            "      (bn1): BatchNorm2d(128, eps=1e-05, momentum=0.1, affine=True, track_running_stats=True)\n",
            "      (relu): ReLU(inplace=True)\n",
            "      (conv2): Conv2d(128, 128, kernel_size=(3, 3), stride=(1, 1), padding=(1, 1), bias=False)\n",
            "      (bn2): BatchNorm2d(128, eps=1e-05, momentum=0.1, affine=True, track_running_stats=True)\n",
            "      (downsample): Sequential(\n",
            "        (0): Conv2d(64, 128, kernel_size=(1, 1), stride=(2, 2), bias=False)\n",
            "        (1): BatchNorm2d(128, eps=1e-05, momentum=0.1, affine=True, track_running_stats=True)\n",
            "      )\n",
            "    )\n",
            "    (1): BasicBlock(\n",
            "      (conv1): Conv2d(128, 128, kernel_size=(3, 3), stride=(1, 1), padding=(1, 1), bias=False)\n",
            "      (bn1): BatchNorm2d(128, eps=1e-05, momentum=0.1, affine=True, track_running_stats=True)\n",
            "      (relu): ReLU(inplace=True)\n",
            "      (conv2): Conv2d(128, 128, kernel_size=(3, 3), stride=(1, 1), padding=(1, 1), bias=False)\n",
            "      (bn2): BatchNorm2d(128, eps=1e-05, momentum=0.1, affine=True, track_running_stats=True)\n",
            "    )\n",
            "  )\n",
            "  (layer3): Sequential(\n",
            "    (0): BasicBlock(\n",
            "      (conv1): Conv2d(128, 256, kernel_size=(3, 3), stride=(2, 2), padding=(1, 1), bias=False)\n",
            "      (bn1): BatchNorm2d(256, eps=1e-05, momentum=0.1, affine=True, track_running_stats=True)\n",
            "      (relu): ReLU(inplace=True)\n",
            "      (conv2): Conv2d(256, 256, kernel_size=(3, 3), stride=(1, 1), padding=(1, 1), bias=False)\n",
            "      (bn2): BatchNorm2d(256, eps=1e-05, momentum=0.1, affine=True, track_running_stats=True)\n",
            "      (downsample): Sequential(\n",
            "        (0): Conv2d(128, 256, kernel_size=(1, 1), stride=(2, 2), bias=False)\n",
            "        (1): BatchNorm2d(256, eps=1e-05, momentum=0.1, affine=True, track_running_stats=True)\n",
            "      )\n",
            "    )\n",
            "    (1): BasicBlock(\n",
            "      (conv1): Conv2d(256, 256, kernel_size=(3, 3), stride=(1, 1), padding=(1, 1), bias=False)\n",
            "      (bn1): BatchNorm2d(256, eps=1e-05, momentum=0.1, affine=True, track_running_stats=True)\n",
            "      (relu): ReLU(inplace=True)\n",
            "      (conv2): Conv2d(256, 256, kernel_size=(3, 3), stride=(1, 1), padding=(1, 1), bias=False)\n",
            "      (bn2): BatchNorm2d(256, eps=1e-05, momentum=0.1, affine=True, track_running_stats=True)\n",
            "    )\n",
            "  )\n",
            "  (layer4): Sequential(\n",
            "    (0): BasicBlock(\n",
            "      (conv1): Conv2d(256, 512, kernel_size=(3, 3), stride=(2, 2), padding=(1, 1), bias=False)\n",
            "      (bn1): BatchNorm2d(512, eps=1e-05, momentum=0.1, affine=True, track_running_stats=True)\n",
            "      (relu): ReLU(inplace=True)\n",
            "      (conv2): Conv2d(512, 512, kernel_size=(3, 3), stride=(1, 1), padding=(1, 1), bias=False)\n",
            "      (bn2): BatchNorm2d(512, eps=1e-05, momentum=0.1, affine=True, track_running_stats=True)\n",
            "      (downsample): Sequential(\n",
            "        (0): Conv2d(256, 512, kernel_size=(1, 1), stride=(2, 2), bias=False)\n",
            "        (1): BatchNorm2d(512, eps=1e-05, momentum=0.1, affine=True, track_running_stats=True)\n",
            "      )\n",
            "    )\n",
            "    (1): BasicBlock(\n",
            "      (conv1): Conv2d(512, 512, kernel_size=(3, 3), stride=(1, 1), padding=(1, 1), bias=False)\n",
            "      (bn1): BatchNorm2d(512, eps=1e-05, momentum=0.1, affine=True, track_running_stats=True)\n",
            "      (relu): ReLU(inplace=True)\n",
            "      (conv2): Conv2d(512, 512, kernel_size=(3, 3), stride=(1, 1), padding=(1, 1), bias=False)\n",
            "      (bn2): BatchNorm2d(512, eps=1e-05, momentum=0.1, affine=True, track_running_stats=True)\n",
            "    )\n",
            "  )\n",
            "  (avgpool): AdaptiveAvgPool2d(output_size=(1, 1))\n",
            "  (fc): Linear(in_features=512, out_features=2, bias=True)\n",
            ")\n"
          ]
        },
        {
          "output_type": "stream",
          "name": "stderr",
          "text": [
            "\n"
          ]
        }
      ],
      "source": [
        "## Load the model based on Resnet18\n",
        "res_based = torchvision.models.resnet18(pretrained=True)\n",
        "\n",
        "# Freeze the layers\n",
        "for param in res_based.parameters():\n",
        "    param.requires_grad = False\n",
        "\n",
        "# Modify the last layer for transfer learning\n",
        "num_classes = 2  # Replace with the number of classes in your new task\n",
        "number_features = res_based.fc.in_features\n",
        "\n",
        "# Replace the last layer with a new fully connected layer\n",
        "res_based.fc = torch.nn.Linear(number_features, num_classes)\n",
        "\n",
        "# Print the modified model\n",
        "print(res_based)\n",
        "\n",
        "res_based = res_based.to(device)\n",
        "\n",
        "print(\"Freezed Model Resnet18 with 2 Output Layer Untrained \",res_based)\n",
        "\n",
        "criterion = torch.nn.CrossEntropyLoss()\n",
        "optimizer_ft_res = optim.Adam(res_based.parameters(), lr=0.001)"
      ]
    },
    {
      "cell_type": "markdown",
      "metadata": {
        "id": "JO4F-L7krB-V"
      },
      "source": [
        "# ResNet18 Training"
      ]
    },
    {
      "cell_type": "code",
      "execution_count": null,
      "metadata": {
        "id": "_QikEk80acDj",
        "colab": {
          "base_uri": "https://localhost:8080/"
        },
        "outputId": "9dbc9dfc-da3b-42e9-fb92-b5d49a7474b9"
      },
      "outputs": [
        {
          "output_type": "stream",
          "name": "stdout",
          "text": [
            "Epoch 0/24\n",
            "----------\n",
            "train Loss: 0.8609\n",
            "train Loss: 0.6584\n",
            "train Loss: 0.8189\n",
            "train Loss: 0.6364\n",
            "train Loss: 0.6947\n",
            "train Loss: 0.6129\n",
            "train Loss: 0.6027\n",
            "train Loss: 0.6599\n",
            "Average epoch loss:  0.6931147873401642\n",
            "Epoch 1/24\n",
            "----------\n",
            "train Loss: 0.5693\n",
            "train Loss: 0.7525\n",
            "train Loss: 0.6576\n",
            "train Loss: 0.5411\n",
            "train Loss: 0.5721\n",
            "train Loss: 0.5027\n",
            "train Loss: 0.5040\n",
            "train Loss: 0.5095\n",
            "Average epoch loss:  0.5761049389839172\n",
            "Epoch 2/24\n",
            "----------\n",
            "train Loss: 0.3883\n",
            "train Loss: 0.4656\n",
            "train Loss: 0.4079\n",
            "train Loss: 0.4100\n",
            "train Loss: 0.3839\n",
            "train Loss: 0.5128\n",
            "train Loss: 0.4294\n",
            "train Loss: 0.3804\n",
            "Average epoch loss:  0.42228963971138\n",
            "Epoch 3/24\n",
            "----------\n",
            "train Loss: 0.3388\n",
            "train Loss: 0.2969\n",
            "train Loss: 0.4110\n",
            "train Loss: 0.3759\n",
            "train Loss: 0.4152\n",
            "train Loss: 0.3340\n",
            "train Loss: 0.3482\n",
            "train Loss: 0.3275\n",
            "Average epoch loss:  0.3559156283736229\n",
            "Epoch 4/24\n",
            "----------\n",
            "train Loss: 0.3043\n",
            "train Loss: 0.3375\n",
            "train Loss: 0.2838\n",
            "train Loss: 0.2704\n",
            "train Loss: 0.2601\n",
            "train Loss: 0.4462\n",
            "train Loss: 0.3878\n",
            "train Loss: 0.3503\n",
            "Average epoch loss:  0.3300555720925331\n",
            "Epoch 5/24\n",
            "----------\n",
            "train Loss: 0.4090\n",
            "train Loss: 0.3132\n",
            "train Loss: 0.4283\n",
            "train Loss: 0.3236\n",
            "train Loss: 0.4232\n",
            "train Loss: 0.2684\n",
            "train Loss: 0.3829\n",
            "train Loss: 0.2680\n",
            "Average epoch loss:  0.3520725220441818\n",
            "Epoch 6/24\n",
            "----------\n",
            "train Loss: 0.2290\n",
            "train Loss: 0.3600\n",
            "train Loss: 0.1981\n",
            "train Loss: 0.2227\n",
            "train Loss: 0.2469\n",
            "train Loss: 0.2603\n",
            "train Loss: 0.3010\n",
            "train Loss: 0.2389\n",
            "Average epoch loss:  0.25711474008858204\n",
            "Epoch 7/24\n",
            "----------\n",
            "train Loss: 0.1861\n",
            "train Loss: 0.2241\n",
            "train Loss: 0.2278\n",
            "train Loss: 0.3288\n",
            "train Loss: 0.2175\n",
            "train Loss: 0.3273\n",
            "train Loss: 0.1818\n",
            "train Loss: 0.2239\n",
            "Average epoch loss:  0.23965239897370338\n",
            "Epoch 8/24\n",
            "----------\n",
            "train Loss: 0.1877\n",
            "train Loss: 0.2708\n",
            "train Loss: 0.1726\n",
            "train Loss: 0.1577\n",
            "train Loss: 0.2056\n",
            "train Loss: 0.1348\n",
            "train Loss: 0.3263\n",
            "train Loss: 0.3923\n",
            "Average epoch loss:  0.23097913339734077\n",
            "Epoch 9/24\n",
            "----------\n",
            "train Loss: 0.2666\n",
            "train Loss: 0.1929\n",
            "train Loss: 0.2097\n",
            "train Loss: 0.2000\n",
            "train Loss: 0.1597\n",
            "train Loss: 0.1823\n",
            "train Loss: 0.2501\n",
            "train Loss: 0.1900\n",
            "Average epoch loss:  0.20642707869410515\n",
            "Epoch 10/24\n",
            "----------\n",
            "train Loss: 0.1885\n",
            "train Loss: 0.2409\n",
            "train Loss: 0.2152\n",
            "train Loss: 0.2647\n",
            "train Loss: 0.4354\n",
            "train Loss: 0.1922\n",
            "train Loss: 0.1520\n",
            "train Loss: 0.2564\n",
            "Average epoch loss:  0.24315630830824375\n",
            "Epoch 11/24\n",
            "----------\n",
            "train Loss: 0.1790\n",
            "train Loss: 0.2403\n",
            "train Loss: 0.1381\n",
            "train Loss: 0.2029\n",
            "train Loss: 0.4890\n",
            "train Loss: 0.1737\n",
            "train Loss: 0.2168\n",
            "train Loss: 0.2854\n",
            "Average epoch loss:  0.24065167643129826\n",
            "Epoch 12/24\n",
            "----------\n",
            "train Loss: 0.1756\n",
            "train Loss: 0.2481\n",
            "train Loss: 0.1261\n",
            "train Loss: 0.2499\n",
            "train Loss: 0.2594\n",
            "train Loss: 0.2398\n",
            "train Loss: 0.1675\n",
            "train Loss: 0.2271\n",
            "Average epoch loss:  0.21169730462133884\n",
            "Epoch 13/24\n",
            "----------\n",
            "train Loss: 0.1713\n",
            "train Loss: 0.2095\n",
            "train Loss: 0.1713\n",
            "train Loss: 0.1646\n",
            "train Loss: 0.2822\n",
            "train Loss: 0.1480\n",
            "train Loss: 0.2003\n",
            "train Loss: 0.3956\n",
            "Average epoch loss:  0.21786735765635967\n",
            "Epoch 14/24\n",
            "----------\n",
            "train Loss: 0.1618\n",
            "train Loss: 0.1660\n",
            "train Loss: 0.2064\n",
            "train Loss: 0.1142\n",
            "train Loss: 0.1057\n",
            "train Loss: 0.2299\n",
            "train Loss: 0.1587\n",
            "train Loss: 0.3084\n",
            "Average epoch loss:  0.18140837270766497\n",
            "Epoch 15/24\n",
            "----------\n",
            "train Loss: 0.1747\n",
            "train Loss: 0.1351\n",
            "train Loss: 0.1760\n",
            "train Loss: 0.0873\n",
            "train Loss: 0.1793\n",
            "train Loss: 0.1459\n",
            "train Loss: 0.1289\n",
            "train Loss: 0.3467\n",
            "Average epoch loss:  0.1717382287606597\n",
            "Epoch 16/24\n",
            "----------\n",
            "train Loss: 0.1100\n",
            "train Loss: 0.2380\n",
            "train Loss: 0.1989\n",
            "train Loss: 0.2348\n",
            "train Loss: 0.2239\n",
            "train Loss: 0.1081\n",
            "train Loss: 0.1649\n",
            "train Loss: 0.1791\n",
            "Average epoch loss:  0.18220338970422745\n",
            "Epoch 17/24\n",
            "----------\n",
            "train Loss: 0.0920\n",
            "train Loss: 0.2390\n",
            "train Loss: 0.1735\n",
            "train Loss: 0.1517\n",
            "train Loss: 0.1197\n",
            "train Loss: 0.0824\n",
            "train Loss: 0.0973\n",
            "train Loss: 0.2262\n",
            "Average epoch loss:  0.14772584568709135\n",
            "Epoch 18/24\n",
            "----------\n",
            "train Loss: 0.0711\n",
            "train Loss: 0.1571\n",
            "train Loss: 0.1382\n",
            "train Loss: 0.2100\n",
            "train Loss: 0.1379\n",
            "train Loss: 0.2457\n",
            "train Loss: 0.2332\n",
            "train Loss: 0.0699\n",
            "Average epoch loss:  0.1578755835071206\n",
            "Epoch 19/24\n",
            "----------\n",
            "train Loss: 0.1459\n",
            "train Loss: 0.2977\n",
            "train Loss: 0.1660\n",
            "train Loss: 0.1347\n",
            "train Loss: 0.1256\n",
            "train Loss: 0.1001\n",
            "train Loss: 0.1886\n",
            "train Loss: 0.2448\n",
            "Average epoch loss:  0.17542582377791405\n",
            "Epoch 20/24\n",
            "----------\n",
            "train Loss: 0.1016\n",
            "train Loss: 0.1170\n",
            "train Loss: 0.2447\n",
            "train Loss: 0.0853\n",
            "train Loss: 0.2046\n",
            "train Loss: 0.1791\n",
            "train Loss: 0.2286\n",
            "train Loss: 0.1502\n",
            "Average epoch loss:  0.16389592550694942\n",
            "Epoch 21/24\n",
            "----------\n",
            "train Loss: 0.0900\n",
            "train Loss: 0.1597\n",
            "train Loss: 0.0998\n",
            "train Loss: 0.1884\n",
            "train Loss: 0.2048\n",
            "train Loss: 0.0995\n",
            "train Loss: 0.2496\n",
            "train Loss: 0.1272\n",
            "Average epoch loss:  0.15240550879389048\n",
            "Epoch 22/24\n",
            "----------\n",
            "train Loss: 0.1346\n",
            "train Loss: 0.1634\n",
            "train Loss: 0.1353\n",
            "train Loss: 0.1730\n",
            "train Loss: 0.1025\n",
            "train Loss: 0.1456\n",
            "train Loss: 0.1571\n",
            "train Loss: 0.3016\n",
            "Average epoch loss:  0.1641422277316451\n",
            "Epoch 23/24\n",
            "----------\n",
            "train Loss: 0.1157\n",
            "train Loss: 0.1844\n",
            "train Loss: 0.1645\n",
            "train Loss: 0.1314\n",
            "train Loss: 0.2231\n",
            "train Loss: 0.1112\n",
            "train Loss: 0.1547\n",
            "train Loss: 0.0572\n",
            "Average epoch loss:  0.14276089938357472\n",
            "Epoch 24/24\n",
            "----------\n",
            "train Loss: 0.1351\n",
            "train Loss: 0.0951\n",
            "train Loss: 0.0976\n",
            "train Loss: 0.0850\n",
            "train Loss: 0.3619\n",
            "train Loss: 0.0572\n",
            "train Loss: 0.0761\n",
            "train Loss: 0.1533\n",
            "Average epoch loss:  0.13267741352319717\n",
            "Training complete in 6m 38s\n"
          ]
        }
      ],
      "source": [
        "res_based, loss_history_res = train_model(res_based, criterion, optimizer_ft_res, num_epochs=25)"
      ]
    },
    {
      "cell_type": "code",
      "source": [
        "# Plot training and validation losses\n",
        "plt.figure()\n",
        "plt.plot(range(1, len(loss_history_res) + 1), loss_history_res, label='Training Loss')\n",
        "plt.xlabel('Epoch')\n",
        "plt.ylabel('Loss')\n",
        "plt.title('Training Losses')\n",
        "plt.legend()"
      ],
      "metadata": {
        "id": "EfCy7aHC3MDn",
        "colab": {
          "base_uri": "https://localhost:8080/",
          "height": 489
        },
        "outputId": "5ff4180e-a200-4a99-bb19-d471d21df582"
      },
      "execution_count": null,
      "outputs": [
        {
          "output_type": "execute_result",
          "data": {
            "text/plain": [
              "<matplotlib.legend.Legend at 0x7f808efda6b0>"
            ]
          },
          "metadata": {},
          "execution_count": 16
        },
        {
          "output_type": "display_data",
          "data": {
            "text/plain": [
              "<Figure size 640x480 with 1 Axes>"
            ],
            "image/png": "[encoded data removed]"
          },
          "metadata": {}
        }
      ]
    },
    {
      "cell_type": "code",
      "source": [
        "avg_loss, acc = validate(res_based, train_loader,criterion, device)\n",
        "print(\"\\nAvg Loss: \",avg_loss,\" Accuracy: \", acc*100,\"%\")"
      ],
      "metadata": {
        "id": "gqPGjVlwtiPm",
        "colab": {
          "base_uri": "https://localhost:8080/"
        },
        "outputId": "64ad1fd1-d2b5-45ed-b9ce-97ff95a2304d"
      },
      "execution_count": null,
      "outputs": [
        {
          "output_type": "stream",
          "name": "stderr",
          "text": [
            "Validation: 100%|██████████| 8/8 [00:15<00:00,  1.88s/it]"
          ]
        },
        {
          "output_type": "stream",
          "name": "stdout",
          "text": [
            "\n",
            "Avg Loss:  0.12162631936371326  Accuracy:  97.5 %\n"
          ]
        },
        {
          "output_type": "stream",
          "name": "stderr",
          "text": [
            "\n"
          ]
        }
      ]
    },
    {
      "cell_type": "code",
      "execution_count": null,
      "metadata": {
        "id": "82SR4y38lel8",
        "colab": {
          "base_uri": "https://localhost:8080/",
          "height": 428
        },
        "outputId": "7cf43108-a082-47a8-d9a3-be1b1908eca6"
      },
      "outputs": [
        {
          "output_type": "display_data",
          "data": {
            "text/plain": [
              "<Figure size 640x480 with 10 Axes>"
            ],
            "image/png": "[encoded data removed]"
          },
          "metadata": {}
        }
      ],
      "source": [
        "visualize_model(res_based, test_loader,10)\n",
        "plt.show()"
      ]
    },
    {
      "cell_type": "markdown",
      "source": [
        "# VGG19 Training"
      ],
      "metadata": {
        "id": "Zg83D1BT3joq"
      }
    },
    {
      "cell_type": "code",
      "source": [
        "vgg_based, loss_history = train_model(vgg_based, criterion, optimizer_ft_vgg, num_epochs=25)"
      ],
      "metadata": {
        "id": "0cEo2tsDdlos",
        "colab": {
          "base_uri": "https://localhost:8080/"
        },
        "outputId": "b9812729-9405-4d84-ab4b-911c111599fd"
      },
      "execution_count": null,
      "outputs": [
        {
          "output_type": "stream",
          "name": "stdout",
          "text": [
            "Epoch 0/24\n",
            "----------\n",
            "train Loss: 0.6766\n",
            "train Loss: 0.6067\n",
            "train Loss: 0.8029\n",
            "train Loss: 0.6562\n",
            "train Loss: 0.4939\n",
            "train Loss: 0.4659\n",
            "train Loss: 0.4986\n",
            "train Loss: 0.5523\n",
            "Average epoch loss:  0.5941370166838169\n",
            "Epoch 1/24\n",
            "----------\n",
            "train Loss: 0.4924\n",
            "train Loss: 0.4273\n",
            "train Loss: 0.4632\n",
            "train Loss: 0.4236\n",
            "train Loss: 0.4184\n",
            "train Loss: 0.4493\n",
            "train Loss: 0.3171\n",
            "train Loss: 0.3302\n",
            "Average epoch loss:  0.41519851982593536\n",
            "Epoch 2/24\n",
            "----------\n",
            "train Loss: 0.3299\n",
            "train Loss: 0.3735\n",
            "train Loss: 0.3668\n",
            "train Loss: 0.3735\n",
            "train Loss: 0.4199\n",
            "train Loss: 0.3082\n",
            "train Loss: 0.2707\n",
            "train Loss: 0.2669\n",
            "Average epoch loss:  0.3386818394064903\n",
            "Epoch 3/24\n",
            "----------\n",
            "train Loss: 0.3095\n",
            "train Loss: 0.3184\n",
            "train Loss: 0.2553\n",
            "train Loss: 0.4242\n",
            "train Loss: 0.2533\n",
            "train Loss: 0.2605\n",
            "train Loss: 0.3654\n",
            "train Loss: 0.4933\n",
            "Average epoch loss:  0.3349740579724312\n",
            "Epoch 4/24\n",
            "----------\n",
            "train Loss: 0.3849\n",
            "train Loss: 0.3730\n",
            "train Loss: 0.3039\n",
            "train Loss: 0.3304\n",
            "train Loss: 0.2870\n",
            "train Loss: 0.2295\n",
            "train Loss: 0.2265\n",
            "train Loss: 0.2717\n",
            "Average epoch loss:  0.30085266195237637\n",
            "Epoch 5/24\n",
            "----------\n",
            "train Loss: 0.2367\n",
            "train Loss: 0.3593\n",
            "train Loss: 0.4063\n",
            "train Loss: 0.2769\n",
            "train Loss: 0.3231\n",
            "train Loss: 0.1984\n",
            "train Loss: 0.3036\n",
            "train Loss: 0.2176\n",
            "Average epoch loss:  0.29023901745676994\n",
            "Epoch 6/24\n",
            "----------\n",
            "train Loss: 0.2864\n",
            "train Loss: 0.3050\n",
            "train Loss: 0.2831\n",
            "train Loss: 0.3092\n",
            "train Loss: 0.1988\n",
            "train Loss: 0.2728\n",
            "train Loss: 0.3824\n",
            "train Loss: 0.4207\n",
            "Average epoch loss:  0.30727861262857914\n",
            "Epoch 7/24\n",
            "----------\n",
            "train Loss: 0.2370\n",
            "train Loss: 0.2932\n",
            "train Loss: 0.1706\n",
            "train Loss: 0.1761\n",
            "train Loss: 0.3117\n",
            "train Loss: 0.3612\n",
            "train Loss: 0.1710\n",
            "train Loss: 0.3110\n",
            "Average epoch loss:  0.2539735659956932\n",
            "Epoch 8/24\n",
            "----------\n",
            "train Loss: 0.1890\n",
            "train Loss: 0.2801\n",
            "train Loss: 0.2165\n",
            "train Loss: 0.2549\n",
            "train Loss: 0.1782\n",
            "train Loss: 0.2272\n",
            "train Loss: 0.3275\n",
            "train Loss: 0.3115\n",
            "Average epoch loss:  0.24812482297420502\n",
            "Epoch 9/24\n",
            "----------\n",
            "train Loss: 0.2427\n",
            "train Loss: 0.1678\n",
            "train Loss: 0.1663\n",
            "train Loss: 0.2609\n",
            "train Loss: 0.2256\n",
            "train Loss: 0.1817\n",
            "train Loss: 0.1965\n",
            "train Loss: 0.2407\n",
            "Average epoch loss:  0.21027678065001965\n",
            "Epoch 10/24\n",
            "----------\n",
            "train Loss: 0.3252\n",
            "train Loss: 0.2160\n",
            "train Loss: 0.3629\n",
            "train Loss: 0.2267\n",
            "train Loss: 0.1951\n",
            "train Loss: 0.1361\n",
            "train Loss: 0.1520\n",
            "train Loss: 0.1858\n",
            "Average epoch loss:  0.22495608031749725\n",
            "Epoch 11/24\n",
            "----------\n",
            "train Loss: 0.2927\n",
            "train Loss: 0.1766\n",
            "train Loss: 0.2601\n",
            "train Loss: 0.3096\n",
            "train Loss: 0.1416\n",
            "train Loss: 0.3087\n",
            "train Loss: 0.2840\n",
            "train Loss: 0.1953\n",
            "Average epoch loss:  0.24607926793396473\n",
            "Epoch 12/24\n",
            "----------\n",
            "train Loss: 0.2697\n",
            "train Loss: 0.1992\n",
            "train Loss: 0.1915\n",
            "train Loss: 0.3535\n",
            "train Loss: 0.3449\n",
            "train Loss: 0.2614\n",
            "train Loss: 0.1929\n",
            "train Loss: 0.2540\n",
            "Average epoch loss:  0.2583900913596153\n",
            "Epoch 13/24\n",
            "----------\n",
            "train Loss: 0.3478\n",
            "train Loss: 0.1791\n",
            "train Loss: 0.1790\n",
            "train Loss: 0.2005\n",
            "train Loss: 0.1629\n",
            "train Loss: 0.1876\n",
            "train Loss: 0.1654\n",
            "train Loss: 0.1238\n",
            "Average epoch loss:  0.1932803001254797\n",
            "Epoch 14/24\n",
            "----------\n",
            "train Loss: 0.3197\n",
            "train Loss: 0.1253\n",
            "train Loss: 0.1149\n",
            "train Loss: 0.1172\n",
            "train Loss: 0.2533\n",
            "train Loss: 0.1354\n",
            "train Loss: 0.1812\n",
            "train Loss: 0.2532\n",
            "Average epoch loss:  0.18751384690403938\n",
            "Epoch 15/24\n",
            "----------\n",
            "train Loss: 0.1439\n",
            "train Loss: 0.1972\n",
            "train Loss: 0.2395\n",
            "train Loss: 0.1234\n",
            "train Loss: 0.1441\n",
            "train Loss: 0.2162\n",
            "train Loss: 0.2787\n",
            "train Loss: 0.3396\n",
            "Average epoch loss:  0.2103354139253497\n",
            "Epoch 16/24\n",
            "----------\n",
            "train Loss: 0.1691\n",
            "train Loss: 0.1985\n",
            "train Loss: 0.2234\n",
            "train Loss: 0.0925\n",
            "train Loss: 0.1793\n",
            "train Loss: 0.1751\n",
            "train Loss: 0.2355\n",
            "train Loss: 0.1779\n",
            "Average epoch loss:  0.18142315838485956\n",
            "Epoch 17/24\n",
            "----------\n",
            "train Loss: 0.1593\n",
            "train Loss: 0.2632\n",
            "train Loss: 0.2841\n",
            "train Loss: 0.2006\n",
            "train Loss: 0.2586\n",
            "train Loss: 0.3136\n",
            "train Loss: 0.4040\n",
            "train Loss: 0.3193\n",
            "Average epoch loss:  0.2753411643207073\n",
            "Epoch 18/24\n",
            "----------\n",
            "train Loss: 0.2189\n",
            "train Loss: 0.1098\n",
            "train Loss: 0.3270\n",
            "train Loss: 0.1622\n",
            "train Loss: 0.1763\n",
            "train Loss: 0.1710\n",
            "train Loss: 0.2023\n",
            "train Loss: 0.3756\n",
            "Average epoch loss:  0.21788333356380463\n",
            "Epoch 19/24\n",
            "----------\n",
            "train Loss: 0.2267\n",
            "train Loss: 0.1564\n",
            "train Loss: 0.1529\n",
            "train Loss: 0.3299\n",
            "train Loss: 0.1643\n",
            "train Loss: 0.3247\n",
            "train Loss: 0.1981\n",
            "train Loss: 0.1868\n",
            "Average epoch loss:  0.2174892257899046\n",
            "Epoch 20/24\n",
            "----------\n",
            "train Loss: 0.3450\n",
            "train Loss: 0.1427\n",
            "train Loss: 0.1581\n",
            "train Loss: 0.1162\n",
            "train Loss: 0.3541\n",
            "train Loss: 0.2233\n",
            "train Loss: 0.1170\n",
            "train Loss: 0.2000\n",
            "Average epoch loss:  0.2070440398529172\n",
            "Epoch 21/24\n",
            "----------\n",
            "train Loss: 0.3105\n",
            "train Loss: 0.2153\n",
            "train Loss: 0.1608\n",
            "train Loss: 0.1045\n",
            "train Loss: 0.1288\n",
            "train Loss: 0.1183\n",
            "train Loss: 0.2771\n",
            "train Loss: 0.1615\n",
            "Average epoch loss:  0.18459741678088903\n",
            "Epoch 22/24\n",
            "----------\n",
            "train Loss: 0.1838\n",
            "train Loss: 0.2312\n",
            "train Loss: 0.0722\n",
            "train Loss: 0.2929\n",
            "train Loss: 0.1750\n",
            "train Loss: 0.3067\n",
            "train Loss: 0.1551\n",
            "train Loss: 0.1389\n",
            "Average epoch loss:  0.19447980634868145\n",
            "Epoch 23/24\n",
            "----------\n",
            "train Loss: 0.1579\n",
            "train Loss: 0.2615\n",
            "train Loss: 0.1622\n",
            "train Loss: 0.1198\n",
            "train Loss: 0.4412\n",
            "train Loss: 0.1593\n",
            "train Loss: 0.1256\n",
            "train Loss: 0.1729\n",
            "Average epoch loss:  0.20004411786794662\n",
            "Epoch 24/24\n",
            "----------\n",
            "train Loss: 0.1466\n",
            "train Loss: 0.2424\n",
            "train Loss: 0.1558\n",
            "train Loss: 0.3587\n",
            "train Loss: 0.1468\n",
            "train Loss: 0.0579\n",
            "train Loss: 0.2123\n",
            "train Loss: 0.1640\n",
            "Average epoch loss:  0.18555373791605234\n",
            "Training complete in 46m 20s\n"
          ]
        }
      ]
    },
    {
      "cell_type": "code",
      "source": [
        "# Plot training and validation losses\n",
        "plt.figure()\n",
        "plt.plot(range(1, len(loss_history) + 1), loss_history, label='Training Loss')\n",
        "plt.xlabel('Epoch')\n",
        "plt.ylabel('Loss')\n",
        "plt.title('Training Losses')\n",
        "plt.legend()"
      ],
      "metadata": {
        "id": "bW4y9xMB3fWl",
        "colab": {
          "base_uri": "https://localhost:8080/",
          "height": 489
        },
        "outputId": "1b88db7a-6df8-4dd7-9820-c48e0122f474"
      },
      "execution_count": null,
      "outputs": [
        {
          "output_type": "execute_result",
          "data": {
            "text/plain": [
              "<matplotlib.legend.Legend at 0x7f806ee23400>"
            ]
          },
          "metadata": {},
          "execution_count": 20
        },
        {
          "output_type": "display_data",
          "data": {
            "text/plain": [
              "<Figure size 640x480 with 1 Axes>"
            ],
            "image/png": "[encoded data removed]"
          },
          "metadata": {}
        }
      ]
    },
    {
      "cell_type": "code",
      "source": [
        "avg_loss, acc = validate(vgg_based, test_loader,criterion, device)\n",
        "print(\"\\nAvg Loss: \",avg_loss,\" Accuracy on Test: \", acc*100,\"%\")"
      ],
      "metadata": {
        "id": "wmXQT62w3iql",
        "colab": {
          "base_uri": "https://localhost:8080/"
        },
        "outputId": "ef687dfc-6a5c-4a60-cb45-cda542fa9e0d"
      },
      "execution_count": null,
      "outputs": [
        {
          "output_type": "stream",
          "name": "stderr",
          "text": [
            "Validation: 100%|██████████| 8/8 [00:43<00:00,  5.47s/it]"
          ]
        },
        {
          "output_type": "stream",
          "name": "stdout",
          "text": [
            "\n",
            "Avg Loss:  0.18617354705929756  Accuracy on Test:  96.25 %\n"
          ]
        },
        {
          "output_type": "stream",
          "name": "stderr",
          "text": [
            "\n"
          ]
        }
      ]
    },
    {
      "cell_type": "code",
      "source": [
        "avg_loss, acc = validate(vgg_based, train_loader,criterion, device)\n",
        "print(\"\\nAvg Loss: \",avg_loss,\" Accuracy on Training: \", acc*100,\"%\")"
      ],
      "metadata": {
        "colab": {
          "base_uri": "https://localhost:8080/"
        },
        "id": "87mVeHKGHvBx",
        "outputId": "01c04001-9045-4be8-ac50-9067e87a745f"
      },
      "execution_count": null,
      "outputs": [
        {
          "output_type": "stream",
          "name": "stderr",
          "text": [
            "Validation: 100%|██████████| 8/8 [01:51<00:00, 13.96s/it]"
          ]
        },
        {
          "output_type": "stream",
          "name": "stdout",
          "text": [
            "\n",
            "Avg Loss:  0.1419693948701024  Accuracy on Training:  97.0 %\n"
          ]
        },
        {
          "output_type": "stream",
          "name": "stderr",
          "text": [
            "\n"
          ]
        }
      ]
    },
    {
      "cell_type": "code",
      "source": [
        "visualize_model(vgg_based, test_loader, 10)\n",
        "plt.show()"
      ],
      "metadata": {
        "id": "G4rW55lAgZDp",
        "colab": {
          "base_uri": "https://localhost:8080/",
          "height": 428
        },
        "outputId": "b27c0860-81c3-4f2e-a549-493efec1fd2f"
      },
      "execution_count": null,
      "outputs": [
        {
          "output_type": "display_data",
          "data": {
            "text/plain": [
              "<Figure size 640x480 with 10 Axes>"
            ],
            "image/png": "[encoded data removed]"
          },
          "metadata": {}
        }
      ]
    },
    {
      "cell_type": "code",
      "source": [
        "# Plot training losses\n",
        "plt.figure()\n",
        "plt.plot(range(1, len(loss_history_res) + 1), loss_history_res, label='ResNet18 Training Loss ')\n",
        "plt.plot(range(1, len(loss_history) + 1), loss_history, label='VGG19 Training Loss')\n",
        "\n",
        "plt.xlabel('Epoch')\n",
        "plt.ylabel('Loss')\n",
        "#plt.title('Training Losses')\n",
        "plt.legend()\n",
        "plt.savefig('/content/drive/MyDrive/Images/TrainingLoss_Res_VGG.png', dpi=300)\n",
        "\n",
        "plt.show()\n",
        "\n"
      ],
      "metadata": {
        "colab": {
          "base_uri": "https://localhost:8080/",
          "height": 449
        },
        "id": "cdeAG6KT21VJ",
        "outputId": "8201c8f0-1397-4914-e52a-14e673df0dec"
      },
      "execution_count": 31,
      "outputs": [
        {
          "output_type": "display_data",
          "data": {
            "text/plain": [
              "<Figure size 640x480 with 1 Axes>"
            ],
            "image/png": "[encoded data removed]"
          },
          "metadata": {}
        }
      ]
    }
  ],
  "metadata": {
    "colab": {
      "provenance": []
    },
    "kernelspec": {
      "display_name": "Python 3",
      "name": "python3"
    },
    "language_info": {
      "name": "python"
    }
  },
  "nbformat": 4,
  "nbformat_minor": 0
}